{
 "cells": [
  {
   "cell_type": "code",
   "execution_count": 5,
   "metadata": {},
   "outputs": [
    {
     "name": "stdout",
     "output_type": "stream",
     "text": [
      "/home/xilinx/jupyter_notebooks/BNN-PYNQ-master/bnn\n",
      "/home/xilinx/jupyter_notebooks/BNN-PYNQ-master/bnn/params\n"
     ]
    }
   ],
   "source": [
    "import bnn\n",
    "root_dir = bnn.BNN_ROOT_DIR\n",
    "param_dir = bnn.BNN_PARAM_DIR\n",
    "print(root_dir)\n",
    "print(param_dir)"
   ]
  },
  {
   "cell_type": "code",
   "execution_count": 6,
   "metadata": {},
   "outputs": [
    {
     "name": "stdout",
     "output_type": "stream",
     "text": [
      "/home/xilinx\n"
     ]
    }
   ],
   "source": [
    "\n",
    "import os \n",
    "training_dir = \"/home/xilinx\"\n",
    "print(training_dir)\n"
   ]
  },
  {
   "cell_type": "code",
   "execution_count": 12,
   "metadata": {},
   "outputs": [
    {
     "data": {
      "text/plain": [
       "['mnist', 'chars_merged']"
      ]
     },
     "execution_count": 12,
     "metadata": {},
     "output_type": "execute_result"
    }
   ],
   "source": [
    "\n",
    "bnn.available_params(bnn.NETWORK_LFCW1A1)"
   ]
  },
  {
   "cell_type": "code",
   "execution_count": 40,
   "metadata": {},
   "outputs": [
    {
     "data": {
      "text/plain": [
       "['green', 'red', 'yellow']"
      ]
     },
     "execution_count": 40,
     "metadata": {},
     "output_type": "execute_result"
    }
   ],
   "source": [
    "lfcW1A1_classifier = bnn.LfcClassifier(bnn.NETWORK_LFCW1A1,\"mnist\",bnn.RUNTIME_HW)\n",
    "lfcW1A1_classifier.classes\n"
   ]
  },
  {
   "cell_type": "code",
   "execution_count": 92,
   "metadata": {},
   "outputs": [
    {
     "data": {
      "image/png": "[encoded data removed]",
      "text/plain": [
       "<PIL.Image.Image image mode=L size=47x70 at 0xAA129050>"
      ]
     },
     "execution_count": 92,
     "metadata": {},
     "output_type": "execute_result"
    }
   ],
   "source": [
    "from array import *\n",
    "from PIL import Image as PIL_Image\n",
    "from PIL import ImageOps\n",
    "img_load = PIL_Image.open('/home/xilinx/jupyter_notebooks/BNN-PYNQ-master/notebooks/pictures/green1 (4).jpg').convert(\"L\")  \n",
    "# Convert to BNN input format  \n",
    "# The image is resized to comply with the MNIST standard. The image is resized at 28x28 pixels and the colors inverted.   \n",
    "  \n",
    "#Resize the image and invert it (white on black)  \n",
    "smallimg = ImageOps.invert(img_load)  \n",
    "\n",
    "data_image = array('B')  \n",
    "  \n",
    "pixel = smallimg.load()  \n",
    "for x in range(0,28):  \n",
    "    for y in range(0,28):  \n",
    "        if(pixel[y,x] == 255):  \n",
    "            data_image.append(255)  \n",
    "        else:  \n",
    "            data_image.append(1)  \n",
    "          \n",
    "# Setting up the header of the MNIST format file - Required as the hardware is designed for MNIST dataset         \n",
    "hexval = \"{0:#0{1}x}\".format(1,6)  \n",
    "header = array('B')  \n",
    "header.extend([0,0,8,1,0,0])  \n",
    "header.append(int('0x'+hexval[2:][:2],16))  \n",
    "header.append(int('0x'+hexval[2:][2:],16))  \n",
    "header.extend([0,0,0,28,0,0,0,28])  \n",
    "header[3] = 3 # Changing MSB for image data (0x00000803)  \n",
    "data_image = header + data_image\n",
    "output_file = open('/home/xilinx/img_mnist_processed', 'wb')  \n",
    "data_image.tofile(output_file)  \n",
    "output_file.close()   \n",
    "smallimg\n"
   ]
  },
  {
   "cell_type": "code",
   "execution_count": 100,
   "metadata": {},
   "outputs": [
    {
     "name": "stdout",
     "output_type": "stream",
     "text": [
      "Inference took 22.00 microseconds\n",
      "Classification rate: 45454.55 images per second\n",
      "Class number: 1\n",
      "Class name: red\n"
     ]
    }
   ],
   "source": [
    "class_out = lfcW1A1_classifier.classify_mnist(\"/home/xilinx/img_mnist_processed\")\n",
    "print(\"Class number: {0}\".format(class_out))\n",
    "print(\"Class name: {0}\".format(lfcW1A1_classifier.class_name(class_out)))\n"
   ]
  },
  {
   "cell_type": "code",
   "execution_count": 94,
   "metadata": {},
   "outputs": [
    {
     "name": "stdout",
     "output_type": "stream",
     "text": [
      "--2019-02-21 03:22:32--  http://fashion-mnist.s3-website.eu-central-1.amazonaws.com/t10k-images-idx3-ubyte.gz\n",
      "Resolving fashion-mnist.s3-website.eu-central-1.amazonaws.com (fashion-mnist.s3-website.eu-central-1.amazonaws.com)... failed: Temporary failure in name resolution.\n",
      "wget: unable to resolve host address ‘fashion-mnist.s3-website.eu-central-1.amazonaws.com’\n",
      "gzip: t10k-images-idx3-ubyte.gz: No such file or directory\n",
      "--2019-02-21 03:22:32--  http://fashion-mnist.s3-website.eu-central-1.amazonaws.com/t10k-labels-idx1-ubyte.gz\n",
      "Resolving fashion-mnist.s3-website.eu-central-1.amazonaws.com (fashion-mnist.s3-website.eu-central-1.amazonaws.com)... failed: Temporary failure in name resolution.\n",
      "wget: unable to resolve host address ‘fashion-mnist.s3-website.eu-central-1.amazonaws.com’\n",
      "gzip: t10k-labels-idx1-ubyte.gz: No such file or directory\n"
     ]
    }
   ],
   "source": [
    "!wget -nc http://fashion-mnist.s3-website.eu-central-1.amazonaws.com/t10k-images-idx3-ubyte.gz; gunzip -f t10k-images-idx3-ubyte.gz\n",
    "!wget -nc http://fashion-mnist.s3-website.eu-central-1.amazonaws.com/t10k-labels-idx1-ubyte.gz; gunzip -f t10k-labels-idx1-ubyte.gz"
   ]
  },
  {
   "cell_type": "code",
   "execution_count": 95,
   "metadata": {},
   "outputs": [
    {
     "name": "stdout",
     "output_type": "stream",
     "text": [
      "ls: cannot access '*ubyte': No such file or directory\r\n"
     ]
    }
   ],
   "source": [
    "!ls *ubyte"
   ]
  },
  {
   "cell_type": "code",
   "execution_count": 9,
   "metadata": {},
   "outputs": [
    {
     "name": "stdout",
     "output_type": "stream",
     "text": [
      "Inference took 69150.00 microseconds, 6.91 usec per image\n",
      "Classification rate: 144613.16 images per second\n"
     ]
    }
   ],
   "source": [
    "ret = c.inference_multiple(\"t10k-images-idx3-ubyte\")"
   ]
  },
  {
   "cell_type": "code",
   "execution_count": 11,
   "metadata": {},
   "outputs": [
    {
     "data": {
      "text/plain": [
       "(array([False,  True], dtype=bool), array([1513, 8487]))"
      ]
     },
     "execution_count": 11,
     "metadata": {},
     "output_type": "execute_result"
    }
   ],
   "source": [
    "import numpy as np\n",
    "with open(\"t10k-labels-idx1-ubyte\", 'rb') as f:\n",
    "  ret_test_golden = np.frombuffer(f.read(), np.uint8, offset=8)\n",
    "np.unique(ret_test_golden == ret, return_counts=True)"
   ]
  },
  {
   "cell_type": "code",
   "execution_count": null,
   "metadata": {
    "collapsed": true
   },
   "outputs": [],
   "source": []
  }
 ],
 "metadata": {
  "kernelspec": {
   "display_name": "Python 3",
   "language": "python",
   "name": "python3"
  }
 },
 "nbformat": 4,
 "nbformat_minor": 2
}
