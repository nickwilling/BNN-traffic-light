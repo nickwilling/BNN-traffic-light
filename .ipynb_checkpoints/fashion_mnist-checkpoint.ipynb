{
 "cells": [
  {
   "cell_type": "code",
   "execution_count": 1,
   "metadata": {},
   "outputs": [
    {
     "data": {
      "application/javascript": [
       "\n",
       "require(['notebook/js/codecell'], function(codecell) {\n",
       "  codecell.CodeCell.options_default.highlight_modes[\n",
       "      'magic_text/x-csrc'] = {'reg':[/^%%microblaze/]};\n",
       "  Jupyter.notebook.events.one('kernel_ready.Kernel', function(){\n",
       "      Jupyter.notebook.get_cells().map(function(cell){\n",
       "          if (cell.cell_type == 'code'){ cell.auto_highlight(); } }) ;\n",
       "  });\n",
       "});\n"
      ]
     },
     "metadata": {},
     "output_type": "display_data"
    },
    {
     "name": "stdout",
     "output_type": "stream",
     "text": [
      "/home/xilinx/jupyter_notebooks/BNN-PYNQ-master/bnn\n",
      "/home/xilinx/jupyter_notebooks/BNN-PYNQ-master/bnn/params\n"
     ]
    }
   ],
   "source": [
    "import bnn\n",
    "root_dir = bnn.bnn.BNN_ROOT_DIR\n",
    "param_dir = bnn.bnn.BNN_PARAM_DIR\n",
    "\n",
    "print(root_dir)\n",
    "print(param_dir)"
   ]
  },
  {
   "cell_type": "code",
   "execution_count": 2,
   "metadata": {},
   "outputs": [
    {
     "name": "stdout",
     "output_type": "stream",
     "text": [
      "/home/xilinx\n"
     ]
    }
   ],
   "source": [
    "\n",
    "import os \n",
    "training_dir = \"/home/xilinx\"\n",
    "print(training_dir)\n"
   ]
  },
  {
   "cell_type": "code",
   "execution_count": 4,
   "metadata": {},
   "outputs": [
    {
     "data": {
      "text/plain": [
       "['mnist', 'chars_merged']"
      ]
     },
     "execution_count": 4,
     "metadata": {},
     "output_type": "execute_result"
    }
   ],
   "source": [
    "!cp -r $training_dir/fashion-mnist-lfc $param_dir/\n",
    "bnn.available_params(bnn.NETWORK_LFCW1A1)"
   ]
  },
  {
   "cell_type": "code",
   "execution_count": 8,
   "metadata": {},
   "outputs": [
    {
     "name": "stdout",
     "output_type": "stream",
     "text": [
      "mnist/lfcW1A1\n",
      "['green', 'red', 'yellow']\n"
     ]
    }
   ],
   "source": [
    "hw_classifier = bnn.LfcClassifier(bnn.NETWORK_LFCW1A1,\"mnist\",bnn.RUNTIME_HW)\n",
    "print(hw_classifier.classes)"
   ]
  },
  {
   "cell_type": "code",
   "execution_count": 14,
   "metadata": {},
   "outputs": [
    {
     "data": {
      "image/png": "[encoded data removed]",
      "text/plain": [
       "<PIL.JpegImagePlugin.JpegImageFile image mode=RGB size=66x97 at 0xAE91B170>"
      ]
     },
     "execution_count": 14,
     "metadata": {},
     "output_type": "execute_result"
    }
   ],
   "source": [
    "from array import *\n",
    "from PIL import Image as PIL_Image\n",
    "from PIL import ImageOps\n",
    "im = PIL_Image.open('/home/xilinx/jupyter_notebooks/BNN-PYNQ-master/notebooks/pictures/red.jpg')  \n",
    "img_load= im.convert(\"L\")\n",
    "# Convert to BNN input format  \n",
    "# The image is resized to comply with the MNIST standard. The image is resized at 28x28 pixels and the colors inverted.   \n",
    "  \n",
    "#Resize the image and invert it (white on black)  \n",
    "smallimg = ImageOps.invert(img_load)  \n",
    "smallimg = smallimg.rotate(0)  \n",
    "  \n",
    "data_image = array('B')  \n",
    "  \n",
    "pixel = smallimg.load()  \n",
    "for x in range(0,28):  \n",
    "    for y in range(0,28):  \n",
    "        if(pixel[y,x] == 255):  \n",
    "            data_image.append(255)  \n",
    "        else:  \n",
    "            data_image.append(1)  \n",
    "          \n",
    "# Setting up the header of the MNIST format file - Required as the hardware is designed for MNIST dataset         \n",
    "hexval = \"{0:#0{1}x}\".format(1,6)  \n",
    "header = array('B')  \n",
    "header.extend([0,0,8,1,0,0])  \n",
    "header.append(int('0x'+hexval[2:][:2],16))  \n",
    "header.append(int('0x'+hexval[2:][2:],16))  \n",
    "header.extend([0,0,0,28,0,0,0,28])  \n",
    "header[3] = 3 # Changing MSB for image data (0x00000803)  \n",
    "data_image = header + data_image  \n",
    "output_file = open('/home/xilinx/img_webcam_mnist_processed', 'wb')  \n",
    "data_image.tofile(output_file)  \n",
    "output_file.close()   \n",
    "im"
   ]
  },
  {
   "cell_type": "code",
   "execution_count": 13,
   "metadata": {},
   "outputs": [
    {
     "name": "stdout",
     "output_type": "stream",
     "text": [
      "Inference took 22.00 microseconds\n",
      "Classification rate: 45454.55 images per second\n",
      "Class number: 1\n",
      "Class name: red\n"
     ]
    }
   ],
   "source": [
    "class_out = hw_classifier.classify_mnist(\"/home/xilinx/img_webcam_mnist_processed\")\n",
    "print(\"Class number: {0}\".format(class_out))\n",
    "print(\"Class name: {0}\".format(hw_classifier.class_name(class_out)))"
   ]
  },
  {
   "cell_type": "code",
   "execution_count": 7,
   "metadata": {},
   "outputs": [
    {
     "name": "stdout",
     "output_type": "stream",
     "text": [
      "--2018-11-11 14:17:56--  http://fashion-mnist.s3-website.eu-central-1.amazonaws.com/t10k-images-idx3-ubyte.gz\n",
      "Resolving fashion-mnist.s3-website.eu-central-1.amazonaws.com (fashion-mnist.s3-website.eu-central-1.amazonaws.com)... 52.219.72.23\n",
      "Connecting to fashion-mnist.s3-website.eu-central-1.amazonaws.com (fashion-mnist.s3-website.eu-central-1.amazonaws.com)|52.219.72.23|:80... connected.\n",
      "HTTP request sent, awaiting response... 200 OK\n",
      "Length: 4422102 (4.2M) [binary/octet-stream]\n",
      "Saving to: ‘t10k-images-idx3-ubyte.gz’\n",
      "\n",
      "t10k-images-idx3-ub 100%[=====================>]   4.22M  3.08MB/s   in 1.4s   \n",
      "\n",
      "2018-11-11 14:17:58 (3.08 MB/s) - ‘t10k-images-idx3-ubyte.gz’ saved [4422102/4422102]\n",
      "\n",
      "--2018-11-11 14:17:59--  http://fashion-mnist.s3-website.eu-central-1.amazonaws.com/t10k-labels-idx1-ubyte.gz\n",
      "Resolving fashion-mnist.s3-website.eu-central-1.amazonaws.com (fashion-mnist.s3-website.eu-central-1.amazonaws.com)... 52.219.72.23\n",
      "Connecting to fashion-mnist.s3-website.eu-central-1.amazonaws.com (fashion-mnist.s3-website.eu-central-1.amazonaws.com)|52.219.72.23|:80... connected.\n",
      "HTTP request sent, awaiting response... 200 OK\n",
      "Length: 5148 (5.0K) [binary/octet-stream]\n",
      "Saving to: ‘t10k-labels-idx1-ubyte.gz’\n",
      "\n",
      "t10k-labels-idx1-ub 100%[=====================>]   5.03K  --.-KB/s   in 0.001s \n",
      "\n",
      "2018-11-11 14:17:59 (3.92 MB/s) - ‘t10k-labels-idx1-ubyte.gz’ saved [5148/5148]\n",
      "\n"
     ]
    }
   ],
   "source": [
    "!wget -nc http://fashion-mnist.s3-website.eu-central-1.amazonaws.com/t10k-images-idx3-ubyte.gz; gunzip -f t10k-images-idx3-ubyte.gz\n",
    "!wget -nc http://fashion-mnist.s3-website.eu-central-1.amazonaws.com/t10k-labels-idx1-ubyte.gz; gunzip -f t10k-labels-idx1-ubyte.gz"
   ]
  },
  {
   "cell_type": "code",
   "execution_count": 8,
   "metadata": {},
   "outputs": [
    {
     "name": "stdout",
     "output_type": "stream",
     "text": [
      "t10k-images-idx3-ubyte\tt10k-labels-idx1-ubyte\r\n"
     ]
    }
   ],
   "source": [
    "!ls *ubyte"
   ]
  },
  {
   "cell_type": "code",
   "execution_count": 9,
   "metadata": {},
   "outputs": [
    {
     "name": "stdout",
     "output_type": "stream",
     "text": [
      "Inference took 69150.00 microseconds, 6.91 usec per image\n",
      "Classification rate: 144613.16 images per second\n"
     ]
    }
   ],
   "source": [
    "ret = c.inference_multiple(\"t10k-images-idx3-ubyte\")"
   ]
  },
  {
   "cell_type": "code",
   "execution_count": 11,
   "metadata": {},
   "outputs": [
    {
     "data": {
      "text/plain": [
       "(array([False,  True], dtype=bool), array([1513, 8487]))"
      ]
     },
     "execution_count": 11,
     "metadata": {},
     "output_type": "execute_result"
    }
   ],
   "source": [
    "import numpy as np\n",
    "with open(\"t10k-labels-idx1-ubyte\", 'rb') as f:\n",
    "  ret_test_golden = np.frombuffer(f.read(), np.uint8, offset=8)\n",
    "np.unique(ret_test_golden == ret, return_counts=True)"
   ]
  },
  {
   "cell_type": "code",
   "execution_count": null,
   "metadata": {
    "collapsed": true
   },
   "outputs": [],
   "source": []
  }
 ],
 "metadata": {
  "kernelspec": {
   "display_name": "Python 3",
   "language": "python",
   "name": "python3"
  },
  "language_info": {
   "codemirror_mode": {
    "name": "ipython",
    "version": 3
   },
   "file_extension": ".py",
   "mimetype": "text/x-python",
   "name": "python",
   "nbconvert_exporter": "python",
   "pygments_lexer": "ipython3",
   "version": "3.6.5"
  }
 },
 "nbformat": 4,
 "nbformat_minor": 2
}
